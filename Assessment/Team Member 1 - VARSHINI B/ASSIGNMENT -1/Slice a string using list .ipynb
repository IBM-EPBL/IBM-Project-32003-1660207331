{
 "cells": [
  {
   "cell_type": "code",
   "execution_count": 1,
   "id": "fe66a2b6",
   "metadata": {},
   "outputs": [
    {
     "name": "stdout",
     "output_type": "stream",
     "text": [
      "A s\n",
      " t\n",
      "git \n",
      "gnirts A\n"
     ]
    }
   ],
   "source": [
    "# Python program to demonstrate\n",
    "# string slicing\n",
    " \n",
    "# String slicing\n",
    "\n",
    "String = 'A string'\n",
    " \n",
    "# Using indexing sequence\n",
    "\n",
    "print(String[:3])\n",
    "# Python program to demonstrate\n",
    "# string slicing\n",
    " \n",
    "# String slicing\n",
    "\n",
    "String = 'A string'\n",
    " \n",
    "# Using indexing sequence\n",
    "\n",
    "print(String[1:5:2])\n",
    "# Python program to demonstrate\n",
    "# string slicing\n",
    " \n",
    "# String slicing\n",
    "\n",
    "String = 'A string'\n",
    " \n",
    "# Using indexing sequence\n",
    "\n",
    "print(String[-1:-12:-2])\n",
    "# Python program to demonstrate\n",
    "# string slicing\n",
    " \n",
    "# String slicing\n",
    "\n",
    "String = 'A string'\n",
    " \n",
    "# Prints string in reverse\n",
    "\n",
    "print(String[::-1])"
   ]
  },
  {
   "cell_type": "code",
   "execution_count": null,
   "id": "c64a9b1c",
   "metadata": {},
   "outputs": [],
   "source": []
  }
 ],
 "metadata": {
  "kernelspec": {
   "display_name": "Python 3 (ipykernel)",
   "language": "python",
   "name": "python3"
  },
  "language_info": {
   "codemirror_mode": {
    "name": "ipython",
    "version": 3
   },
   "file_extension": ".py",
   "mimetype": "text/x-python",
   "name": "python",
   "nbconvert_exporter": "python",
   "pygments_lexer": "ipython3",
   "version": "3.10.7"
  }
 },
 "nbformat": 4,
 "nbformat_minor": 5
}
