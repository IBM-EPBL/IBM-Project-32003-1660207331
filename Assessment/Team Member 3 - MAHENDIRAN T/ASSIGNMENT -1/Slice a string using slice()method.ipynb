{
 "cells": [
  {
   "cell_type": "code",
   "execution_count": 2,
   "id": "7dfd75e9",
   "metadata": {},
   "outputs": [
    {
     "name": "stdout",
     "output_type": "stream",
     "text": [
      " String slicing \n",
      "AST\n",
      "SR\n",
      "GITA\n"
     ]
    }
   ],
   "source": [
    "# Python program to demonstrate\n",
    "# string slicing\n",
    " \n",
    "# String slicing\n",
    "\n",
    "String = 'ASTRING'\n",
    " \n",
    "# Using slice constructor\n",
    "\n",
    "s1 = slice(3)\n",
    "\n",
    "s2 = slice(1, 5, 2)\n",
    "\n",
    "s3 = slice(-1, -12, -2)\n",
    " \n",
    "\n",
    "print(\" String slicing \")\n",
    "\n",
    "print(String[s1])\n",
    "\n",
    "print(String[s2])\n",
    "\n",
    "print(String[s3])"
   ]
  },
  {
   "cell_type": "code",
   "execution_count": null,
   "id": "5f1f294b",
   "metadata": {},
   "outputs": [],
   "source": []
  }
 ],
 "metadata": {
  "kernelspec": {
   "display_name": "Python 3 (ipykernel)",
   "language": "python",
   "name": "python3"
  },
  "language_info": {
   "codemirror_mode": {
    "name": "ipython",
    "version": 3
   },
   "file_extension": ".py",
   "mimetype": "text/x-python",
   "name": "python",
   "nbconvert_exporter": "python",
   "pygments_lexer": "ipython3",
   "version": "3.10.7"
  }
 },
 "nbformat": 4,
 "nbformat_minor": 5
}
